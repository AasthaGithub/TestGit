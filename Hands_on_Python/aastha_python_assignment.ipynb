{
 "cells": [
  {
   "cell_type": "code",
   "execution_count": 2,
   "metadata": {},
   "outputs": [
    {
     "name": "stdin",
     "output_type": "stream",
     "text": [
      " Enter a no. 5\n"
     ]
    },
    {
     "data": {
      "text/plain": [
       "{1: 1, 2: 4, 3: 9, 4: 16, 5: 25}"
      ]
     },
     "execution_count": 2,
     "metadata": {},
     "output_type": "execute_result"
    }
   ],
   "source": [
    "#Assignment Problem 1)\n",
    "dict={}\n",
    "n=int(input(\" Enter a no.\"))\n",
    "for i in range (1,n+1):\n",
    "    dict.update({i:(i**2)})\n",
    "dict"
   ]
  },
  {
   "cell_type": "code",
   "execution_count": 3,
   "metadata": {},
   "outputs": [
    {
     "name": "stdin",
     "output_type": "stream",
     "text": [
      "Enter the no. whose table u want to print 6\n"
     ]
    },
    {
     "name": "stdout",
     "output_type": "stream",
     "text": [
      "6 x 1 = 6\n",
      "6 x 2 = 12\n",
      "6 x 3 = 18\n",
      "6 x 4 = 24\n",
      "6 x 5 = 30\n",
      "6 x 6 = 36\n",
      "6 x 7 = 42\n",
      "6 x 8 = 48\n",
      "6 x 9 = 54\n",
      "6 x 10 = 60\n"
     ]
    }
   ],
   "source": [
    "#Assignment Problem 2)\n",
    "n1=int(input(\"Enter the no. whose table u want to print\"))\n",
    "for i in range(1,11):\n",
    "    print(n1,\"x\",i,\"=\",n1*i)"
   ]
  },
  {
   "cell_type": "code",
   "execution_count": 4,
   "metadata": {},
   "outputs": [
    {
     "name": "stdout",
     "output_type": "stream",
     "text": [
      "7156\n"
     ]
    }
   ],
   "source": [
    "#Assignment Problem 3)\n",
    "items=[6,50,100,7000]\n",
    "total=0\n",
    "for i in items:\n",
    "    total+=i\n",
    "print (total)"
   ]
  },
  {
   "cell_type": "code",
   "execution_count": 5,
   "metadata": {},
   "outputs": [
    {
     "name": "stdin",
     "output_type": "stream",
     "text": [
      "Enter name,age,city,course -comma seperated: aastha,19,mumbai,python\n"
     ]
    }
   ],
   "source": [
    "#Assignment Problem 4)\n",
    "#a) Ask user to enter name, age, city and course using comma as a separator. Store these values in a tuple called student\n",
    "values=input(\"Enter name,age,city,course -comma seperated:\")\n",
    "students=values.split(\",\")\n",
    "student=tuple(students)"
   ]
  },
  {
   "cell_type": "code",
   "execution_count": 6,
   "metadata": {},
   "outputs": [
    {
     "name": "stdout",
     "output_type": "stream",
     "text": [
      "tup_count: 4\n"
     ]
    }
   ],
   "source": [
    "#b) Storing count of total number of elements present in the tuple student in a variable called tup_count & Display \n",
    "tup_count=len(student)\n",
    "print(\"tup_count:\",tup_count)"
   ]
  },
  {
   "cell_type": "code",
   "execution_count": 7,
   "metadata": {},
   "outputs": [
    {
     "name": "stdout",
     "output_type": "stream",
     "text": [
      "Student Info: Name: aastha Age: 19 City: mumbai Course: python\n"
     ]
    }
   ],
   "source": [
    "#c)To store student data in variables\n",
    "s_name,s_age,s_city,s_course=student\n",
    "#d) Display the student information on the screen using the four variables created above.\n",
    "print (\"Student Info:\",\"Name:\",s_name,\"Age:\",s_age,\"City:\",s_city,\"Course:\",s_course)"
   ]
  },
  {
   "cell_type": "code",
   "execution_count": 8,
   "metadata": {},
   "outputs": [
    {
     "data": {
      "text/plain": [
       "{'col1': 'red', 'col2': 'blue', 'col3': 'yellow'}"
      ]
     },
     "execution_count": 8,
     "metadata": {},
     "output_type": "execute_result"
    }
   ],
   "source": [
    "#Assignment Problem 5)\n",
    "#dictionary 'colors' with keys -col 1,2,3 with resp values\n",
    "colors={'col1':'red','col2':'blue','col3':'yellow'}\n",
    "colors"
   ]
  },
  {
   "cell_type": "code",
   "execution_count": 9,
   "metadata": {},
   "outputs": [
    {
     "data": {
      "text/plain": [
       "{'col1': 'red', 'col2': 'blue', 'col3': 'yellow', 'col4': 'green'}"
      ]
     },
     "execution_count": 9,
     "metadata": {},
     "output_type": "execute_result"
    }
   ],
   "source": [
    "#add col4:green\n",
    "colors.update({'col4':'green'})\n",
    "colors"
   ]
  },
  {
   "cell_type": "code",
   "execution_count": 10,
   "metadata": {},
   "outputs": [
    {
     "name": "stdout",
     "output_type": "stream",
     "text": [
      "{'col1': 'red', 'col2': 'orange', 'col3': 'yellow', 'col4': 'green'}\n"
     ]
    }
   ],
   "source": [
    "#update col2=orange\n",
    "colors.update({'col2':'orange'})\n",
    "#print dictionary\n",
    "print (colors)"
   ]
  },
  {
   "cell_type": "code",
   "execution_count": 11,
   "metadata": {},
   "outputs": [
    {
     "name": "stdout",
     "output_type": "stream",
     "text": [
      "('col1', 'col2')\n"
     ]
    }
   ],
   "source": [
    "#create new dictionary with col1,2 = trimmed 'colors' dictionry= seq\n",
    "seq=list(colors.keys())\n",
    "seq.pop()  \n",
    "seq.pop()\n",
    "#... for removing col3 and col4  \n",
    "seq= tuple(seq)\n",
    "print (seq)\n",
    "#... after which seq=colors dict key col1 & 2"
   ]
  },
  {
   "cell_type": "code",
   "execution_count": 12,
   "metadata": {},
   "outputs": [
    {
     "name": "stdout",
     "output_type": "stream",
     "text": [
      "{'col1': 'magenta', 'col2': 'magenta'}\n"
     ]
    }
   ],
   "source": [
    "#considering initializing each values in new dictionary to be magenta\n",
    "colors_new=colors.fromkeys(seq,'magenta')\n",
    "print(colors_new)"
   ]
  },
  {
   "cell_type": "code",
   "execution_count": 13,
   "metadata": {},
   "outputs": [
    {
     "name": "stdout",
     "output_type": "stream",
     "text": [
      "\n",
      " colors:\n",
      "col1 red\n",
      "col2 orange\n",
      "col3 yellow\n",
      "col4 green\n",
      "\n",
      " colors_new:\n",
      "col1 magenta\n",
      "col2 magenta\n"
     ]
    }
   ],
   "source": [
    "#print all values of both dictionary\n",
    "print(\"\\n colors:\")\n",
    "for keys in colors.keys():\n",
    "    print(keys,colors[keys])\n",
    "print(\"\\n colors_new:\")\n",
    "for keys in colors_new.keys():\n",
    "    print(keys,colors_new[keys])"
   ]
  },
  {
   "cell_type": "code",
   "execution_count": 14,
   "metadata": {},
   "outputs": [
    {
     "name": "stdout",
     "output_type": "stream",
     "text": [
      "\n",
      " Dictionary 'colors' after every item is popped/deleted:\n",
      "{}\n"
     ]
    }
   ],
   "source": [
    "#remove from colors and print its content\n",
    "colors.popitem()\n",
    "colors.popitem()\n",
    "colors.popitem()\n",
    "colors.popitem()\n",
    "print ('\\n Dictionary \\'colors\\' after every item is popped/deleted:')\n",
    "print (colors)"
   ]
  },
  {
   "cell_type": "code",
   "execution_count": 15,
   "metadata": {},
   "outputs": [
    {
     "name": "stdout",
     "output_type": "stream",
     "text": [
      "\n",
      " the value of key col2 from the Dictionary colors_new: \n",
      "magenta\n"
     ]
    }
   ],
   "source": [
    "#Print the value of key col2 from the Dictionary colors_new on the screen\n",
    "print('\\n the value of key col2 from the Dictionary colors_new: ')\n",
    "print(colors_new['col2'])"
   ]
  },
  {
   "cell_type": "code",
   "execution_count": 16,
   "metadata": {},
   "outputs": [
    {
     "name": "stdout",
     "output_type": "stream",
     "text": [
      "2\n",
      "3\n",
      "5\n",
      "7\n",
      "11\n",
      "13\n",
      "17\n",
      "19\n",
      "23\n",
      "29\n",
      "31\n",
      "37\n",
      "41\n",
      "43\n",
      "47\n",
      "53\n",
      "59\n",
      "61\n",
      "67\n",
      "71\n",
      "73\n",
      "79\n",
      "83\n",
      "89\n",
      "97\n"
     ]
    }
   ],
   "source": [
    "#Assignment Problem 6)\n",
    "#list of primes between 1 to 100\n",
    "for i in range(1,101):\n",
    "    flag=0\n",
    "    for j in range(2,i):\n",
    "        if i%j==0:\n",
    "            flag+=1\n",
    "            break\n",
    "    if flag==0 and i!=1:\n",
    "        print (i)"
   ]
  },
  {
   "cell_type": "code",
   "execution_count": 17,
   "metadata": {},
   "outputs": [
    {
     "name": "stdout",
     "output_type": "stream",
     "text": [
      "No. of Uppercase characters: 3\n",
      "No. of Lowercase characters: 19\n"
     ]
    }
   ],
   "source": [
    "#Assignment Problem 7)\n",
    "def ftn_count_upper_lower(sample_string):\n",
    "    upper,lower=0,0\n",
    "    for s in sample_string:\n",
    "        if s.isupper()== True:\n",
    "            upper+=1\n",
    "        if s.islower()==True:\n",
    "            lower+=1\n",
    "    print('No. of Uppercase characters:',upper)\n",
    "    print('No. of Lowercase characters:',lower)\n",
    "ftn_count_upper_lower(\"&amp;#39;Hello My name is Ram&amp;#39;\")"
   ]
  },
  {
   "cell_type": "code",
   "execution_count": 18,
   "metadata": {},
   "outputs": [
    {
     "name": "stdout",
     "output_type": "stream",
     "text": [
      "['11', 'Aakash', 'Kumar', 'Patna', '22', 'Noida']\n",
      "['12', 'Naman', 'Arora', 'Lucknow', '18', 'Delhi']\n",
      "['13', 'Vikas', 'Jain', 'Bhopal', '25', 'Gurgaon']\n",
      "['14', 'Nirmal', 'Mishra', 'Gurgaon', '21', 'Gurgaon']\n",
      "['15', 'Priya', 'Singh', 'Gurgaon', '25', 'Delhi']\n",
      "['16', 'Pravita', 'Singh', 'Kanpur', '21', 'Delhi']\n"
     ]
    }
   ],
   "source": [
    "#Assignment 8\n",
    "#Given Data:\n",
    "\n",
    "#a) employee code[0], first name[1], last name[2], home city[3], age[4], current city[5] : employee_list\n",
    "#b) employee code[0], full name[1], home city[2], age[3], current city[4] : new_records.csv\n",
    "\n",
    "#c)d) making permanent emp list-from new_records with employee code starting from \"emp\"\n",
    "\n",
    "#converting full name of new_records into two columns[] to fit in employee_list\n",
    "import csv\n",
    "try:\n",
    "    with open('new_records.csv') as f:\n",
    "        reader= csv.reader(f,delimiter=',')\n",
    "        permanent=[]\n",
    "        for row in reader:\n",
    "            if not row:\n",
    "                raise Exception('Row not found')#g)handling errors at data entry level\n",
    "            if (row[0][0:3]=='emp'):\n",
    "                row.append(row[4])\n",
    "                row[4]=row[3]\n",
    "                row[3]=row[2]\n",
    "                row[2]=row[1].split(' ')[1]#last name\n",
    "                row[1]=row[1].split(' ')[0]#first name\n",
    "                row[0]=row[0][3:]#f) removing character prefix of the employee code\n",
    "                print(row)\n",
    "                permanent.append(row)\n",
    "\n",
    "    #permanent list format: employee code[0], first name[1], last name[2], home city[3], age[4], current city[5]\n",
    "    #which will be appended to employee_list\n",
    "except Exception:\n",
    "    print('new_records.csv file not found')#g) handling file errors"
   ]
  },
  {
   "cell_type": "code",
   "execution_count": 19,
   "metadata": {},
   "outputs": [
    {
     "name": "stdout",
     "output_type": "stream",
     "text": [
      "['1', 'Anshika', 'Garg', 'Ranchi', '21', 'Noida']\n",
      "['2', 'Rohit', 'Awasthi', 'Allahabad', '20', 'Delhi']\n",
      "['11', 'Aakash', 'Kumar', 'Patna', '22', 'Noida']\n",
      "['12', 'Naman', 'Arora', 'Lucknow', '18', 'Delhi']\n",
      "['13', 'Vikas', 'Jain', 'Bhopal', '25', 'Gurgaon']\n",
      "['14', 'Nirmal', 'Mishra', 'Gurgaon', '21', 'Gurgaon']\n",
      "['15', 'Priya', 'Singh', 'Gurgaon', '25', 'Delhi']\n",
      "['16', 'Pravita', 'Singh', 'Kanpur', '21', 'Delhi']\n",
      "['11', 'Aakash', 'Kumar', 'Patna', '22', 'Noida']\n",
      "['12', 'Naman', 'Arora', 'Lucknow', '18', 'Delhi']\n",
      "['13', 'Vikas', 'Jain', 'Bhopal', '25', 'Gurgaon']\n",
      "['14', 'Nirmal', 'Mishra', 'Gurgaon', '21', 'Gurgaon']\n",
      "['15', 'Priya', 'Singh', 'Gurgaon', '25', 'Delhi']\n",
      "['16', 'Pravita', 'Singh', 'Kanpur', '21', 'Delhi']\n"
     ]
    }
   ],
   "source": [
    "#d)appending employee_list to add permanent employees\n",
    "try:\n",
    "    with open('employee_list.csv', 'a+') as csvoutput: \n",
    "        for i in permanent:\n",
    "            csv.writer(csvoutput).writerow(i)\n",
    "except Exception:\n",
    "    print('employee_list.csv file not found')#g) handling file errors\n",
    "    \n",
    "#displaying updated employee_list\n",
    "try:\n",
    "    with open('employee_list.csv','r') as file:\n",
    "        readerr=csv.reader(file)\n",
    "        for rows in readerr:\n",
    "            if not row[0].isnumeric:\n",
    "                raise Exception('Employee code should be a number')#g)handling number type exceptions\n",
    "            if not row[4].isnumeric:\n",
    "                raise Exception('Age should be a number')#g)handling number type exceptions\n",
    "            print(rows)\n",
    "except Exception:\n",
    "    print('employee_list.csv file not found')#g) handling file errors"
   ]
  },
  {
   "cell_type": "code",
   "execution_count": 20,
   "metadata": {},
   "outputs": [
    {
     "name": "stdout",
     "output_type": "stream",
     "text": [
      "['cnt17', 'Rishab', 'Srivastava', 'Mumbai', '22', 'Noida']\n",
      "['tmp18', 'Naina', 'Gupta', 'Sonipat', '28', 'New Delhi']\n",
      "['cnt19', 'Jai', 'Tiwari', 'Hyderabad', '24', 'Noida']\n"
     ]
    }
   ],
   "source": [
    "#e) Create a new separate file for the contractual and other type of employees, file name will be “contractors_list.csv”\n",
    "import csv\n",
    "try:\n",
    "    with open('new_records.csv') as f:\n",
    "        reader= csv.reader(f,delimiter=',')\n",
    "        contractual=[]\n",
    "        for row in reader:\n",
    "            if (row[0][0:3]!='emp'):\n",
    "                row.append(row[4])\n",
    "                row[4]=row[3]\n",
    "                row[3]=row[2]\n",
    "                row[2]=row[1].split(' ')[1]#last name\n",
    "                row[1]=row[1].split(' ')[0]#first name\n",
    "                #row[0]=row[0]#employee code is kept as it is\n",
    "                contractual.append(row)\n",
    "                #new format: employee code[0], first name[1], last name[2], home city[3], age[4], current city[5]  \n",
    "except Exception:\n",
    "    print('new_records.csv file not found')#g) handling file errors\n",
    "    \n",
    "#writing the list of contractual employees into a new csv file called: contractors_list.csv\n",
    "with open('contractors_list.csv', 'w') as csvoutput: \n",
    "    for i in contractual:\n",
    "        csv.writer(csvoutput).writerow(i)\n",
    "\n",
    "    \n",
    "#displaying newly created contractors_list\n",
    "try:\n",
    "    with open('contractors_list.csv','r') as file:\n",
    "        readerr=csv.reader(file)\n",
    "        for rows in readerr:\n",
    "            if not row[4].isnumeric:\n",
    "                raise Exception('Age should be a number')#g)handling number type exceptions\n",
    "            print(rows)\n",
    "except Exception:\n",
    "    print('new_records.csv file not found')#g) handling file errors"
   ]
  }
 ],
 "metadata": {
  "kernelspec": {
   "display_name": "Python 3",
   "language": "python",
   "name": "python3"
  },
  "language_info": {
   "codemirror_mode": {
    "name": "ipython",
    "version": 3
   },
   "file_extension": ".py",
   "mimetype": "text/x-python",
   "name": "python",
   "nbconvert_exporter": "python",
   "pygments_lexer": "ipython3",
   "version": "3.6.7"
  }
 },
 "nbformat": 4,
 "nbformat_minor": 2
}
